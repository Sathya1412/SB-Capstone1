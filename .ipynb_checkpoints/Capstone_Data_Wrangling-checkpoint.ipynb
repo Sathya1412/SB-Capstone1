{
 "cells": [
  {
   "cell_type": "code",
   "execution_count": 1,
   "metadata": {},
   "outputs": [],
   "source": [
    "import pandas as pd\n",
    "import numpy as np\n",
    "import re\n",
    "pd.set_option('display.height', 1000)\n",
    "pd.set_option('display.max_rows', 500)\n",
    "pd.set_option('display.max_columns', 500)\n",
    "pd.set_option('display.width', 1000)"
   ]
  },
  {
   "cell_type": "code",
   "execution_count": 2,
   "metadata": {},
   "outputs": [],
   "source": [
    "df = pd.read_csv('listings.csv')"
   ]
  },
  {
   "cell_type": "markdown",
   "metadata": {},
   "source": [
    "Dropping columns that won't be helpful in finding popularity"
   ]
  },
  {
   "cell_type": "code",
   "execution_count": 3,
   "metadata": {
    "scrolled": true
   },
   "outputs": [
    {
     "data": {
      "text/plain": [
       "72"
      ]
     },
     "execution_count": 3,
     "metadata": {},
     "output_type": "execute_result"
    }
   ],
   "source": [
    "df.drop(columns=['scrape_id', 'last_scraped', 'thumbnail_url', 'medium_url', 'xl_picture_url', \n",
    "       'host_acceptance_rate', 'neighbourhood_group_cleansed', 'latitude', 'longitude', 'has_availability', \n",
    "       'calendar_last_scraped', 'jurisdiction_names', 'is_business_travel_ready', 'experiences_offered', \n",
    "                 'country', 'country_code', 'market', 'state', 'listing_url', 'host_url', \n",
    "                 'picture_url', 'host_thumbnail_url', 'host_picture_url', 'neighbourhood_cleansed'], inplace=True)\n",
    "\n",
    "len(df.columns)"
   ]
  },
  {
   "cell_type": "code",
   "execution_count": 4,
   "metadata": {},
   "outputs": [],
   "source": [
    "df.dropna(subset=['summary', 'space', 'description', 'neighborhood_overview', \n",
    "                  'notes', 'transit', 'access', 'interaction', 'house_rules', \n",
    "                  'host_about', 'host_response_time', 'host_response_rate', \n",
    "                  'host_neighbourhood', 'neighbourhood', 'bathrooms', 'bedrooms', \n",
    "                  'beds', 'weekly_price', 'monthly_price', 'security_deposit', \n",
    "                  'cleaning_fee'], thresh=7, inplace = True)"
   ]
  },
  {
   "cell_type": "markdown",
   "metadata": {},
   "source": [
    "### Quick Summary Statistic about all the columns"
   ]
  },
  {
   "cell_type": "code",
   "execution_count": 5,
   "metadata": {
    "scrolled": true
   },
   "outputs": [
    {
     "data": {
      "text/html": [
       "<div>\n",
       "<style scoped>\n",
       "    .dataframe tbody tr th:only-of-type {\n",
       "        vertical-align: middle;\n",
       "    }\n",
       "\n",
       "    .dataframe tbody tr th {\n",
       "        vertical-align: top;\n",
       "    }\n",
       "\n",
       "    .dataframe thead th {\n",
       "        text-align: right;\n",
       "    }\n",
       "</style>\n",
       "<table border=\"1\" class=\"dataframe\">\n",
       "  <thead>\n",
       "    <tr style=\"text-align: right;\">\n",
       "      <th></th>\n",
       "      <th>id</th>\n",
       "      <th>host_id</th>\n",
       "      <th>host_listings_count</th>\n",
       "      <th>host_total_listings_count</th>\n",
       "      <th>zipcode</th>\n",
       "      <th>accommodates</th>\n",
       "      <th>bathrooms</th>\n",
       "      <th>bedrooms</th>\n",
       "      <th>beds</th>\n",
       "      <th>square_feet</th>\n",
       "      <th>guests_included</th>\n",
       "      <th>minimum_nights</th>\n",
       "      <th>maximum_nights</th>\n",
       "      <th>availability_30</th>\n",
       "      <th>availability_60</th>\n",
       "      <th>availability_90</th>\n",
       "      <th>availability_365</th>\n",
       "      <th>number_of_reviews</th>\n",
       "      <th>review_scores_rating</th>\n",
       "      <th>review_scores_accuracy</th>\n",
       "      <th>review_scores_cleanliness</th>\n",
       "      <th>review_scores_checkin</th>\n",
       "      <th>review_scores_communication</th>\n",
       "      <th>review_scores_location</th>\n",
       "      <th>review_scores_value</th>\n",
       "      <th>calculated_host_listings_count</th>\n",
       "      <th>reviews_per_month</th>\n",
       "    </tr>\n",
       "  </thead>\n",
       "  <tbody>\n",
       "    <tr>\n",
       "      <th>count</th>\n",
       "      <td>6.628000e+03</td>\n",
       "      <td>6.628000e+03</td>\n",
       "      <td>6628.000000</td>\n",
       "      <td>6628.000000</td>\n",
       "      <td>6463.000000</td>\n",
       "      <td>6628.000000</td>\n",
       "      <td>6602.000000</td>\n",
       "      <td>6627.000000</td>\n",
       "      <td>6623.000000</td>\n",
       "      <td>137.000000</td>\n",
       "      <td>6628.000000</td>\n",
       "      <td>6.628000e+03</td>\n",
       "      <td>6.628000e+03</td>\n",
       "      <td>6628.000000</td>\n",
       "      <td>6628.000000</td>\n",
       "      <td>6628.000000</td>\n",
       "      <td>6628.000000</td>\n",
       "      <td>6628.000000</td>\n",
       "      <td>5448.000000</td>\n",
       "      <td>5447.000000</td>\n",
       "      <td>5448.000000</td>\n",
       "      <td>5445.000000</td>\n",
       "      <td>5448.000000</td>\n",
       "      <td>5445.000000</td>\n",
       "      <td>5444.000000</td>\n",
       "      <td>6628.000000</td>\n",
       "      <td>5489.000000</td>\n",
       "    </tr>\n",
       "    <tr>\n",
       "      <th>mean</th>\n",
       "      <td>1.370753e+07</td>\n",
       "      <td>3.719756e+07</td>\n",
       "      <td>45.131261</td>\n",
       "      <td>45.131261</td>\n",
       "      <td>94114.912425</td>\n",
       "      <td>3.233404</td>\n",
       "      <td>1.352242</td>\n",
       "      <td>1.353554</td>\n",
       "      <td>1.776687</td>\n",
       "      <td>947.518248</td>\n",
       "      <td>1.726162</td>\n",
       "      <td>1.510416e+04</td>\n",
       "      <td>3.397863e+05</td>\n",
       "      <td>7.351086</td>\n",
       "      <td>18.969523</td>\n",
       "      <td>34.506337</td>\n",
       "      <td>161.889710</td>\n",
       "      <td>42.076946</td>\n",
       "      <td>95.416483</td>\n",
       "      <td>9.746466</td>\n",
       "      <td>9.613436</td>\n",
       "      <td>9.860973</td>\n",
       "      <td>9.828377</td>\n",
       "      <td>9.599449</td>\n",
       "      <td>9.431301</td>\n",
       "      <td>12.170187</td>\n",
       "      <td>1.951048</td>\n",
       "    </tr>\n",
       "    <tr>\n",
       "      <th>std</th>\n",
       "      <td>8.748765e+06</td>\n",
       "      <td>5.016684e+07</td>\n",
       "      <td>188.186857</td>\n",
       "      <td>188.186857</td>\n",
       "      <td>15.299043</td>\n",
       "      <td>1.958600</td>\n",
       "      <td>0.797722</td>\n",
       "      <td>0.941756</td>\n",
       "      <td>1.207717</td>\n",
       "      <td>700.534345</td>\n",
       "      <td>1.388803</td>\n",
       "      <td>1.228312e+06</td>\n",
       "      <td>2.640619e+07</td>\n",
       "      <td>9.234500</td>\n",
       "      <td>19.401525</td>\n",
       "      <td>30.050550</td>\n",
       "      <td>132.679953</td>\n",
       "      <td>67.482460</td>\n",
       "      <td>7.082016</td>\n",
       "      <td>0.687872</td>\n",
       "      <td>0.796760</td>\n",
       "      <td>0.518177</td>\n",
       "      <td>0.601164</td>\n",
       "      <td>0.755509</td>\n",
       "      <td>0.808201</td>\n",
       "      <td>29.689470</td>\n",
       "      <td>2.016345</td>\n",
       "    </tr>\n",
       "    <tr>\n",
       "      <th>min</th>\n",
       "      <td>9.580000e+02</td>\n",
       "      <td>4.600000e+01</td>\n",
       "      <td>0.000000</td>\n",
       "      <td>0.000000</td>\n",
       "      <td>94005.000000</td>\n",
       "      <td>1.000000</td>\n",
       "      <td>0.000000</td>\n",
       "      <td>0.000000</td>\n",
       "      <td>0.000000</td>\n",
       "      <td>0.000000</td>\n",
       "      <td>1.000000</td>\n",
       "      <td>1.000000e+00</td>\n",
       "      <td>1.000000e+00</td>\n",
       "      <td>0.000000</td>\n",
       "      <td>0.000000</td>\n",
       "      <td>0.000000</td>\n",
       "      <td>0.000000</td>\n",
       "      <td>0.000000</td>\n",
       "      <td>20.000000</td>\n",
       "      <td>2.000000</td>\n",
       "      <td>2.000000</td>\n",
       "      <td>2.000000</td>\n",
       "      <td>2.000000</td>\n",
       "      <td>2.000000</td>\n",
       "      <td>2.000000</td>\n",
       "      <td>1.000000</td>\n",
       "      <td>0.010000</td>\n",
       "    </tr>\n",
       "    <tr>\n",
       "      <th>25%</th>\n",
       "      <td>5.154238e+06</td>\n",
       "      <td>3.347282e+06</td>\n",
       "      <td>1.000000</td>\n",
       "      <td>1.000000</td>\n",
       "      <td>94109.000000</td>\n",
       "      <td>2.000000</td>\n",
       "      <td>1.000000</td>\n",
       "      <td>1.000000</td>\n",
       "      <td>1.000000</td>\n",
       "      <td>450.000000</td>\n",
       "      <td>1.000000</td>\n",
       "      <td>2.000000e+00</td>\n",
       "      <td>2.900000e+01</td>\n",
       "      <td>0.000000</td>\n",
       "      <td>2.000000</td>\n",
       "      <td>5.000000</td>\n",
       "      <td>31.000000</td>\n",
       "      <td>2.000000</td>\n",
       "      <td>94.000000</td>\n",
       "      <td>10.000000</td>\n",
       "      <td>9.000000</td>\n",
       "      <td>10.000000</td>\n",
       "      <td>10.000000</td>\n",
       "      <td>9.000000</td>\n",
       "      <td>9.000000</td>\n",
       "      <td>1.000000</td>\n",
       "      <td>0.390000</td>\n",
       "    </tr>\n",
       "    <tr>\n",
       "      <th>50%</th>\n",
       "      <td>1.494895e+07</td>\n",
       "      <td>1.224305e+07</td>\n",
       "      <td>2.000000</td>\n",
       "      <td>2.000000</td>\n",
       "      <td>94114.000000</td>\n",
       "      <td>2.000000</td>\n",
       "      <td>1.000000</td>\n",
       "      <td>1.000000</td>\n",
       "      <td>1.000000</td>\n",
       "      <td>840.000000</td>\n",
       "      <td>1.000000</td>\n",
       "      <td>3.000000e+00</td>\n",
       "      <td>1.800000e+02</td>\n",
       "      <td>3.000000</td>\n",
       "      <td>12.000000</td>\n",
       "      <td>29.000000</td>\n",
       "      <td>136.000000</td>\n",
       "      <td>13.000000</td>\n",
       "      <td>97.000000</td>\n",
       "      <td>10.000000</td>\n",
       "      <td>10.000000</td>\n",
       "      <td>10.000000</td>\n",
       "      <td>10.000000</td>\n",
       "      <td>10.000000</td>\n",
       "      <td>10.000000</td>\n",
       "      <td>2.000000</td>\n",
       "      <td>1.200000</td>\n",
       "    </tr>\n",
       "    <tr>\n",
       "      <th>75%</th>\n",
       "      <td>2.161157e+07</td>\n",
       "      <td>4.800549e+07</td>\n",
       "      <td>6.000000</td>\n",
       "      <td>6.000000</td>\n",
       "      <td>94121.000000</td>\n",
       "      <td>4.000000</td>\n",
       "      <td>1.500000</td>\n",
       "      <td>2.000000</td>\n",
       "      <td>2.000000</td>\n",
       "      <td>1200.000000</td>\n",
       "      <td>2.000000</td>\n",
       "      <td>3.000000e+01</td>\n",
       "      <td>1.125000e+03</td>\n",
       "      <td>12.000000</td>\n",
       "      <td>34.000000</td>\n",
       "      <td>61.000000</td>\n",
       "      <td>301.000000</td>\n",
       "      <td>53.000000</td>\n",
       "      <td>100.000000</td>\n",
       "      <td>10.000000</td>\n",
       "      <td>10.000000</td>\n",
       "      <td>10.000000</td>\n",
       "      <td>10.000000</td>\n",
       "      <td>10.000000</td>\n",
       "      <td>10.000000</td>\n",
       "      <td>4.000000</td>\n",
       "      <td>2.970000</td>\n",
       "    </tr>\n",
       "    <tr>\n",
       "      <th>max</th>\n",
       "      <td>2.753014e+07</td>\n",
       "      <td>2.076565e+08</td>\n",
       "      <td>1305.000000</td>\n",
       "      <td>1305.000000</td>\n",
       "      <td>94965.000000</td>\n",
       "      <td>16.000000</td>\n",
       "      <td>9.000000</td>\n",
       "      <td>11.000000</td>\n",
       "      <td>17.000000</td>\n",
       "      <td>3000.000000</td>\n",
       "      <td>16.000000</td>\n",
       "      <td>1.000000e+08</td>\n",
       "      <td>2.147484e+09</td>\n",
       "      <td>30.000000</td>\n",
       "      <td>60.000000</td>\n",
       "      <td>90.000000</td>\n",
       "      <td>365.000000</td>\n",
       "      <td>610.000000</td>\n",
       "      <td>100.000000</td>\n",
       "      <td>10.000000</td>\n",
       "      <td>10.000000</td>\n",
       "      <td>10.000000</td>\n",
       "      <td>10.000000</td>\n",
       "      <td>10.000000</td>\n",
       "      <td>10.000000</td>\n",
       "      <td>155.000000</td>\n",
       "      <td>12.610000</td>\n",
       "    </tr>\n",
       "  </tbody>\n",
       "</table>\n",
       "</div>"
      ],
      "text/plain": [
       "                 id       host_id  host_listings_count  host_total_listings_count       zipcode  accommodates    bathrooms     bedrooms         beds  square_feet  guests_included  minimum_nights  maximum_nights  availability_30  availability_60  availability_90  availability_365  number_of_reviews  review_scores_rating  review_scores_accuracy  review_scores_cleanliness  review_scores_checkin  review_scores_communication  review_scores_location  review_scores_value  calculated_host_listings_count  reviews_per_month\n",
       "count  6.628000e+03  6.628000e+03          6628.000000                6628.000000   6463.000000   6628.000000  6602.000000  6627.000000  6623.000000   137.000000      6628.000000    6.628000e+03    6.628000e+03      6628.000000      6628.000000      6628.000000       6628.000000        6628.000000           5448.000000             5447.000000                5448.000000            5445.000000                  5448.000000             5445.000000          5444.000000                     6628.000000        5489.000000\n",
       "mean   1.370753e+07  3.719756e+07            45.131261                  45.131261  94114.912425      3.233404     1.352242     1.353554     1.776687   947.518248         1.726162    1.510416e+04    3.397863e+05         7.351086        18.969523        34.506337        161.889710          42.076946             95.416483                9.746466                   9.613436               9.860973                     9.828377                9.599449             9.431301                       12.170187           1.951048\n",
       "std    8.748765e+06  5.016684e+07           188.186857                 188.186857     15.299043      1.958600     0.797722     0.941756     1.207717   700.534345         1.388803    1.228312e+06    2.640619e+07         9.234500        19.401525        30.050550        132.679953          67.482460              7.082016                0.687872                   0.796760               0.518177                     0.601164                0.755509             0.808201                       29.689470           2.016345\n",
       "min    9.580000e+02  4.600000e+01             0.000000                   0.000000  94005.000000      1.000000     0.000000     0.000000     0.000000     0.000000         1.000000    1.000000e+00    1.000000e+00         0.000000         0.000000         0.000000          0.000000           0.000000             20.000000                2.000000                   2.000000               2.000000                     2.000000                2.000000             2.000000                        1.000000           0.010000\n",
       "25%    5.154238e+06  3.347282e+06             1.000000                   1.000000  94109.000000      2.000000     1.000000     1.000000     1.000000   450.000000         1.000000    2.000000e+00    2.900000e+01         0.000000         2.000000         5.000000         31.000000           2.000000             94.000000               10.000000                   9.000000              10.000000                    10.000000                9.000000             9.000000                        1.000000           0.390000\n",
       "50%    1.494895e+07  1.224305e+07             2.000000                   2.000000  94114.000000      2.000000     1.000000     1.000000     1.000000   840.000000         1.000000    3.000000e+00    1.800000e+02         3.000000        12.000000        29.000000        136.000000          13.000000             97.000000               10.000000                  10.000000              10.000000                    10.000000               10.000000            10.000000                        2.000000           1.200000\n",
       "75%    2.161157e+07  4.800549e+07             6.000000                   6.000000  94121.000000      4.000000     1.500000     2.000000     2.000000  1200.000000         2.000000    3.000000e+01    1.125000e+03        12.000000        34.000000        61.000000        301.000000          53.000000            100.000000               10.000000                  10.000000              10.000000                    10.000000               10.000000            10.000000                        4.000000           2.970000\n",
       "max    2.753014e+07  2.076565e+08          1305.000000                1305.000000  94965.000000     16.000000     9.000000    11.000000    17.000000  3000.000000        16.000000    1.000000e+08    2.147484e+09        30.000000        60.000000        90.000000        365.000000         610.000000            100.000000               10.000000                  10.000000              10.000000                    10.000000               10.000000            10.000000                      155.000000          12.610000"
      ]
     },
     "execution_count": 5,
     "metadata": {},
     "output_type": "execute_result"
    }
   ],
   "source": [
    "df.describe()"
   ]
  },
  {
   "cell_type": "code",
   "execution_count": 6,
   "metadata": {
    "scrolled": true
   },
   "outputs": [
    {
     "data": {
      "text/plain": [
       "(6628, 72)"
      ]
     },
     "execution_count": 6,
     "metadata": {},
     "output_type": "execute_result"
    }
   ],
   "source": [
    "df.shape"
   ]
  },
  {
   "cell_type": "markdown",
   "metadata": {},
   "source": [
    "### New features that may be helpful: \n",
    "#### review_score_totals = average of all the review scores\n",
    "#### recent_availability = combination of all the availabilities \n",
    "#### calendar_updated_recently = binary version of calendar_updated\n",
    "#### ( ___ column)_len = length of characters in ( ___ column)\n",
    "#### license_has = binary version of license\n",
    "#### transit_has = binary version of transit\n",
    "#### no_pets = 1 if there is a no pet policy. 0 otherwise\n",
    "#### no_smoking = 1 if there is a no smoking policy. 0 otherwise"
   ]
  },
  {
   "cell_type": "code",
   "execution_count": 7,
   "metadata": {},
   "outputs": [],
   "source": [
    "df['review_score_totals'] = (df['review_scores_accuracy'] + df['review_scores_cleanliness'] + df['review_scores_checkin'] + df['review_scores_communication'] + df['review_scores_location'] + df['review_scores_value'])/6\n"
   ]
  },
  {
   "cell_type": "code",
   "execution_count": 8,
   "metadata": {},
   "outputs": [],
   "source": [
    "df['recent_availability'] = (df['availability_30'] + df['availability_60'] + df['availability_90'])/ df['availability_365']\n",
    "newra = []\n",
    "n = float(180/365) # this number is for when the listing has been available for 180 days in a row\n",
    "\n",
    "for i in df['recent_availability']:\n",
    "    if i == n:\n",
    "        i = 0 #listing is free for the past 365 days, (30 + 60 + 90)/365\n",
    "    elif i < n:\n",
    "        i = 1 #listing is booked more often in the recent 90 days, ((30 or less) + (60 or less) + (90 or less)) / (less than 365)\n",
    "    elif i > n:\n",
    "        i = -1 #listing is unbooked for the past 365 days if the number is large or not recently booked (1 + 1 + 1)/3 = 1\n",
    "    elif pd.isnull(i):\n",
    "        i = 1 #listing is booked for the past 365 days (divide by 0)\n",
    "    newra.append(i)\n",
    "    \n",
    "df['recent_availability'] = newra"
   ]
  },
  {
   "cell_type": "code",
   "execution_count": 9,
   "metadata": {},
   "outputs": [],
   "source": [
    "df.fillna({x:'' for x in ['name', 'summary', 'space', 'description', 'neighborhood_overview', 'notes', 'transit', \n",
    "                         'access', 'interaction', 'house_rules', 'host_location', 'host_about', 'host_neighbourhood', \n",
    "                         'license']}, inplace=True)\n",
    "df.fillna({x:-1 for x in ['square_feet', 'price', 'weekly_price', 'monthly_price', 'security_deposit', \n",
    "                         'cleaning_fee']}, inplace=True)"
   ]
  },
  {
   "cell_type": "code",
   "execution_count": 10,
   "metadata": {},
   "outputs": [],
   "source": [
    "df['summary_len'] = df['summary'].str.len()\n",
    "df['space_len'] = df['space'].str.len()\n",
    "df['description_len'] = df['description'].str.len()\n",
    "df['neighborhood_overview_len'] = df['neighborhood_overview'].str.len()\n",
    "df['notes_len'] = df['notes'].str.len()\n",
    "df['transit_len'] = df['transit'].str.len()\n",
    "df['access_len'] = df['access'].str.len()\n",
    "df['interaction_len'] = df['interaction'].str.len()\n",
    "df['house_rules_len'] = df['house_rules'].str.len()\n",
    "\n",
    "\n",
    "df['host_about_len'] = df['host_about'].str.len()\n",
    "df['host_verifications_len'] = df['host_verifications'].str.len()\n",
    "df['amenities_len'] = df['amenities'].str.len()"
   ]
  },
  {
   "cell_type": "code",
   "execution_count": 11,
   "metadata": {},
   "outputs": [],
   "source": [
    "df['calendar_updated_recently'] = df['calendar_updated'].apply(lambda x: 0 if \"months ago\" in x else 1)\n",
    "df['host_location_SF'] = df['host_location'].apply(lambda x: 1 if \"San Francisco\" in x else 0)\n",
    "df['street_SF'] = df['street'].apply(lambda x: 1 if \"San Francisco\" in x else 0)"
   ]
  },
  {
   "cell_type": "code",
   "execution_count": 12,
   "metadata": {},
   "outputs": [],
   "source": [
    "df[['license_has']] = df[['license']].apply(lambda x: x != '', axis=1).astype(int)\n",
    "df[['transit_has']] = df[['transit']].apply(lambda x: x != '', axis=1).astype(int)"
   ]
  },
  {
   "cell_type": "code",
   "execution_count": 13,
   "metadata": {},
   "outputs": [],
   "source": [
    "df['no_pets'] = df.house_rules.apply(lambda x: True if \"no pet\" in x.lower() else False)\n",
    "df['no_smoking'] = df.house_rules.apply(lambda x: True if \"no smok\" in x.lower() else False)"
   ]
  },
  {
   "cell_type": "markdown",
   "metadata": {},
   "source": [
    "### Get dummy columns for categoricals"
   ]
  },
  {
   "cell_type": "code",
   "execution_count": 14,
   "metadata": {
    "scrolled": false
   },
   "outputs": [],
   "source": [
    "df = pd.get_dummies(data=df, columns=[\"host_response_time\", \"host_is_superhost\", \n",
    "                                         \"host_has_profile_pic\", \"host_identity_verified\", \"is_location_exact\", \n",
    "                                         \"requires_license\", \"instant_bookable\", \"require_guest_profile_picture\", \n",
    "                                         \"require_guest_phone_verification\", \n",
    "                                         \"city\", \"smart_location\", \"property_type\", \n",
    "                                         \"room_type\", \"bed_type\", \"cancellation_policy\"])"
   ]
  },
  {
   "cell_type": "code",
   "execution_count": 15,
   "metadata": {},
   "outputs": [],
   "source": [
    "dt1 = pd.to_datetime(df.host_since).tolist()\n",
    "dt2 = pd.to_datetime(df.first_review).tolist()\n",
    "dt3 = pd.to_datetime(df.last_review).tolist()"
   ]
  },
  {
   "cell_type": "code",
   "execution_count": 16,
   "metadata": {},
   "outputs": [],
   "source": [
    "df['host_since'] = dt1\n",
    "df['first_review'] = dt2\n",
    "df['last_review'] = dt3"
   ]
  },
  {
   "cell_type": "markdown",
   "metadata": {},
   "source": [
    "## Popular Column\n",
    "### A listing is popular if number of reviews is more than 20% of the max number of reviews \n",
    "Explanation: \n",
    "\n",
    "Number of reviews indicates popularity. More reviews = popular. Less reviews = unpopular. Max number of reviews may be different for different data sets but should be indicative of how many people reviewed the most popular listing. This means each dataset will have similar values for popularity.\n",
    "\n",
    "20% was randomly chosen"
   ]
  },
  {
   "cell_type": "code",
   "execution_count": 17,
   "metadata": {
    "scrolled": true
   },
   "outputs": [],
   "source": [
    "df['popular'] = df['number_of_reviews'] > 0.2*df.number_of_reviews.max()"
   ]
  },
  {
   "cell_type": "code",
   "execution_count": 18,
   "metadata": {},
   "outputs": [
    {
     "data": {
      "text/plain": [
       "False    5953\n",
       "True      675\n",
       "Name: number_of_reviews, dtype: int64"
      ]
     },
     "execution_count": 18,
     "metadata": {},
     "output_type": "execute_result"
    }
   ],
   "source": [
    "(df['number_of_reviews']>0.2*df.number_of_reviews.max()).value_counts()"
   ]
  },
  {
   "cell_type": "code",
   "execution_count": 19,
   "metadata": {},
   "outputs": [
    {
     "data": {
      "text/plain": [
       "False    5953\n",
       "True      675\n",
       "Name: popular, dtype: int64"
      ]
     },
     "execution_count": 19,
     "metadata": {},
     "output_type": "execute_result"
    }
   ],
   "source": [
    "df.popular.value_counts()"
   ]
  },
  {
   "cell_type": "markdown",
   "metadata": {},
   "source": [
    "### Save cleaned csv file\n",
    "host_about deleted since there are errors in that column"
   ]
  },
  {
   "cell_type": "code",
   "execution_count": 20,
   "metadata": {},
   "outputs": [],
   "source": [
    "del df['host_about']\n",
    "df.to_csv('listings_cleaned.csv', index=False)"
   ]
  }
 ],
 "metadata": {
  "kernelspec": {
   "display_name": "Python 3",
   "language": "python",
   "name": "python3"
  },
  "language_info": {
   "codemirror_mode": {
    "name": "ipython",
    "version": 3
   },
   "file_extension": ".py",
   "mimetype": "text/x-python",
   "name": "python",
   "nbconvert_exporter": "python",
   "pygments_lexer": "ipython3",
   "version": "3.6.4"
  }
 },
 "nbformat": 4,
 "nbformat_minor": 2
}
